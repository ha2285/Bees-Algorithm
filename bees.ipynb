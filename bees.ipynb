{
 "cells": [
  {
   "cell_type": "code",
   "execution_count": null,
   "metadata": {
    "jupyter": {
     "outputs_hidden": true
    }
   },
   "outputs": [],
   "source": [
    "# Bees Settings\n",
    "# fx:                          is the function you would like to find the min or max for\n",
    "# fx_rane:                     is the range (function domin)\n",
    "# num_fitness_calls_required:  is the max number of fitness calles you want to run the algorithm with. \n",
    "# num_of_bees:\n",
    "# ngh:                         is neighbourhood search area diameter\n",
    "# num_of_elite_site:\n",
    "# num_of_best_sites:\n",
    "# num_of_bees_around_elite_sites:\n",
    "# num_of_bees_around_elite_sites:\n",
    "# num_of_bees_around_best_sites:\n",
    "# target = (1: for min / -1: for max)\n",
    "############################################################################################################################\n",
    "def beesFun(fx,fx_range = [-10, 10], num_fitness_calls_required=100000,num_of_bees=300,ngh=0.1, num_of_elite_site=5, num_of_best_sites=3,num_of_bees_around_elite_sites=10, num_of_bees_around_best_sites=15, target=1):\n",
    "    import numpy as np\n",
    "    import math\n",
    "    import timeit\n",
    "    start=timeit.default_timer()\n",
    "    \n",
    "    num_of_random_bees = num_of_bees - (\n",
    "    (num_of_elite_site * num_of_bees_around_elite_sites) + (num_of_best_sites * num_of_bees_around_best_sites))\n",
    "\n",
    "    # Function Settings\n",
    "    \n",
    "    num_of_function_dimensions = 6\n",
    "    num_fitness_calls = 0\n",
    "\n",
    "    ##############################################################\n",
    "    # initial scout bees (random)\n",
    "    bees = np.random.uniform(fx_range[0], fx_range[1], [num_of_bees, num_of_function_dimensions + 1])\n",
    "    \n",
    "    # Evaluate the fitness \n",
    "    for b in bees:\n",
    "        b[num_of_function_dimensions] = fx(b[:-1])\n",
    "        num_fitness_calls += 1\n",
    "\n",
    "    while (num_fitness_calls<num_fitness_calls_required):\n",
    "        # sort bees by fitness to find sites\n",
    "        sites = bees[bees[:, num_of_function_dimensions].argsort()[::target]]\n",
    "\n",
    "        b_index = 0\n",
    "        s_index = 0\n",
    "\n",
    "        # Send bees around elite sites\n",
    "        for i in range(num_of_elite_site):\n",
    "            for b in range(num_of_bees_around_elite_sites):\n",
    "                for d in range(num_of_function_dimensions):\n",
    "                    bees[b_index][d] = np.random.uniform(sites[s_index][d] - ngh, sites[s_index][d] + ngh)\n",
    "                b_index += 1\n",
    "            s_index += 1\n",
    "        # Send bees around best sites\n",
    "        for i in range(num_of_best_sites):\n",
    "            for b in range(num_of_bees_around_best_sites):\n",
    "                for d in range(num_of_function_dimensions):\n",
    "                    bees[b_index][d] = np.random.uniform(sites[s_index][d] - ngh, sites[s_index][d] + ngh)\n",
    "                b_index += 1\n",
    "            s_index += 1\n",
    "\n",
    "        # Send other bees randomly\n",
    "        for b in range(num_of_random_bees):\n",
    "            for d in range(num_of_function_dimensions):\n",
    "                bees[b_index][d] = np.random.uniform(fx_range[0], fx_range[1])\n",
    "            b_index += 1\n",
    "\n",
    "        # cal the fitness\n",
    "        for b in bees:\n",
    "            b[num_of_function_dimensions] = fx(b[:-1])\n",
    "            num_fitness_calls += 1\n",
    "        \n",
    "        # sort the bees\n",
    "        bees = bees[bees[:, num_of_function_dimensions].argsort()[::target]]\n",
    "        \n",
    "    return bees"
   ]
  },
  {
   "cell_type": "code",
   "execution_count": null,
   "metadata": {
    "jupyter": {
     "outputs_hidden": false
    }
   },
   "outputs": [],
   "source": [
    "# Change fxx to be the continuous Function that you want to optimize\n",
    "def fxx(X):\n",
    "    fitness= ((-1.2 - (X[2] * X[5]))**2)  + ((1.1 - X[2] - X[5])**2) + ((1.5 -(X[2] * X[3]) - (X[0] * X[5])) **2) + ((2.8 -X[0] -X[3]) **2) + ((8 - (X[0] * X[3]) - (X[2] * X[4]) - (X[1] * X[5])) **2) + ((1 - X[1] -X[4]) **2) + ((1.7 - (X[1] * X[3]) - (X[0] * X[4])) **2) + ((-4 - (X[1] * X[4]))**2)\n",
    "    return (fitness)"
   ]
  },
  {
   "cell_type": "code",
   "execution_count": null,
   "metadata": {
    "jupyter": {
     "outputs_hidden": true
    }
   },
   "outputs": [],
   "source": [
    "# Call the bees algorithm on your function\n",
    "# change [-10,10] to be the range of your function\n",
    "beess=beesFun(fxx,[-10, 10])\n",
    "\n",
    "\n",
    "# prinitng the top best results obtained by the bees algorithm\n",
    "print(round(beess[0][0], 2), \",\", round(beess[0][1], 2), \",\", round(beess[0][2], 2), \",\", round(beess[0][3], 2), \",\", round(beess[0][4], 2), \",\", round(beess[0][5], 2))\n",
    "print(round(beess[0][6], 2))"
   ]
  },
  {
   "cell_type": "code",
   "execution_count": null,
   "metadata": {
    "jupyter": {
     "outputs_hidden": true
    }
   },
   "outputs": [],
   "source": []
  }
 ],
 "metadata": {
  "kernelspec": {
   "display_name": "Python 3",
   "language": "python",
   "name": "python3"
  },
  "language_info": {
   "codemirror_mode": {
    "name": "ipython",
    "version": 3
   },
   "file_extension": ".py",
   "mimetype": "text/x-python",
   "name": "python",
   "nbconvert_exporter": "python",
   "pygments_lexer": "ipython3",
   "version": "3.8.8"
  }
 },
 "nbformat": 4,
 "nbformat_minor": 4
}
